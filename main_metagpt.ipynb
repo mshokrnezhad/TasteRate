{
 "cells": [
  {
   "cell_type": "code",
   "execution_count": 29,
   "metadata": {},
   "outputs": [],
   "source": [
    "import re\n",
    "from metagpt.actions import Action\n",
    "from metagpt.logs import logger\n",
    "import asyncio"
   ]
  },
  {
   "cell_type": "code",
   "execution_count": 33,
   "metadata": {},
   "outputs": [],
   "source": [
    "class ExtractName(Action):\n",
    "    PROMPT_TEMPLATE: str = \"\"\"\n",
    "    Extract the name of the restaurant from \"{query}\" and compare it to the following list of names: {names}, \n",
    "    and return the name that is most similar to the extracted name. \n",
    "    Return ```NAME: the selected name from the list``` with NO other texts.\n",
    "    \"\"\"\n",
    "\n",
    "    name: str = \"ExtractName\"\n",
    "\n",
    "    async def run(self, query: str, names: list):\n",
    "        prompt = self.PROMPT_TEMPLATE.format(query=query, names=names)\n",
    "\n",
    "        rsp = await self._aask(prompt)\n",
    "\n",
    "        extracted_name = ExtractName.extract_name(rsp)\n",
    "    \n",
    "        return extracted_name\n",
    "\n",
    "    @staticmethod\n",
    "    def extract_name(rsp):\n",
    "        pattern = r\"NAME: (.*)\"\n",
    "        match = re.search(pattern, rsp)\n",
    "        name = match.group(1) if match else rsp\n",
    "        return name.strip()"
   ]
  },
  {
   "cell_type": "code",
   "execution_count": 34,
   "metadata": {},
   "outputs": [
    {
     "name": "stderr",
     "output_type": "stream",
     "text": [
      "2024-11-07 13:39:10.453 | INFO     | __main__:<module>:10 - What is the overall score for Chickfil/A?\n",
      "2024-11-07 13:39:11.106 | WARNING  | metagpt.provider.openai_api:_calc_usage:244 - usage calculation failed: num_tokens_from_messages() is not implemented for model gpt-4o-mini. See https://cookbook.openai.com/examples/how_to_count_tokens_with_tiktoken for information on how messages are converted to tokens.\n"
     ]
    },
    {
     "name": "stdout",
     "output_type": "stream",
     "text": [
      "NAME: Chick-fil-A\n",
      "Warning: model not found. Using cl100k_base encoding.\n",
      "Chick-fil-A\n"
     ]
    }
   ],
   "source": [
    "names = (\n",
    "    \"McDonald's, Subway, Taco Bell, Chick-fil-A, Applebee's, Olive Garden, Cheesecake Factory, \"\n",
    "    \"Buffalo Wild Wings, Starbucks, Krispy Kreme, Panera Bread, Tim Horton's, Chipotle, In-n-Out, \"\n",
    "    \"Five Guys, Panda Express, Pret A Manger, Cinnabon, IHOP, Burger King\"\n",
    ")\n",
    "\n",
    "query=\"What is the overall score for Chickfil/A?\"\n",
    "\n",
    "role = ExtractName()\n",
    "logger.info(query)\n",
    "result = asyncio.run(role.run(query, names))\n",
    "\n",
    "print(result)"
   ]
  }
 ],
 "metadata": {
  "kernelspec": {
   "display_name": "TasteRate",
   "language": "python",
   "name": "python3"
  },
  "language_info": {
   "codemirror_mode": {
    "name": "ipython",
    "version": 3
   },
   "file_extension": ".py",
   "mimetype": "text/x-python",
   "name": "python",
   "nbconvert_exporter": "python",
   "pygments_lexer": "ipython3",
   "version": "3.10.15"
  }
 },
 "nbformat": 4,
 "nbformat_minor": 2
}
