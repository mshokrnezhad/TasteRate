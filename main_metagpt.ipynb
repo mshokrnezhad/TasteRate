{
 "cells": [
  {
   "cell_type": "code",
   "execution_count": 69,
   "metadata": {},
   "outputs": [],
   "source": [
    "import re\n",
    "from metagpt.actions import Action\n",
    "from metagpt.logs import logger\n",
    "import asyncio\n",
    "from typing import Dict, List"
   ]
  },
  {
   "cell_type": "code",
   "execution_count": 70,
   "metadata": {},
   "outputs": [],
   "source": [
    "def fetch_restaurant_data(restaurant_name: str) -> Dict[str, List[str]]:  # Function to fetch restaurant reviews from a data file\n",
    "    # Dictionary to store restaurant reviews\n",
    "    restaurant_reviews = {}\n",
    "\n",
    "    # Open and read the restaurant-data.txt file, assuming each line contains: RestaurantName.\n",
    "    with open(\"restaurant-data.txt\", \"r\") as file:\n",
    "        for line in file:\n",
    "            line = line.strip()\n",
    "            if not line:\n",
    "                continue  # Skip empty lines\n",
    "            try:\n",
    "                # Split each line into restaurant name and review\n",
    "                name, review = line.split(\". \", 1)\n",
    "                name = name.strip()\n",
    "                review = review.strip()\n",
    "                # Store review in the dictionary under the corresponding restaurant name\n",
    "                if name not in restaurant_reviews:\n",
    "                    restaurant_reviews[name] = []\n",
    "                restaurant_reviews[name].append(review)\n",
    "            except ValueError:\n",
    "                # Skip lines that do not match the expected format\n",
    "                continue\n",
    "\n",
    "    # Find reviews for the specified restaurant (case insensitive search)\n",
    "    reviews = []\n",
    "    for key in restaurant_reviews.keys():\n",
    "        if restaurant_name.lower() in key.lower():\n",
    "            reviews.extend(restaurant_reviews[key])\n",
    "\n",
    "    # Return the reviews if found, otherwise return a \"No reviews found\" message\n",
    "    return {restaurant_name: reviews} if reviews else {restaurant_name: [\"No reviews found for this restaurant.\"]}"
   ]
  },
  {
   "cell_type": "code",
   "execution_count": 64,
   "metadata": {},
   "outputs": [],
   "source": [
    "class Extract(Action):\n",
    "    PROMPT_TEMPLATE: str = \"\"\"\n",
    "    Extract the name of the restaurant from ```{query}```. \n",
    "    Return the extracted name following this output format ```the name is: XXX``` with NO other texts.\n",
    "    \"\"\"\n",
    "\n",
    "    name: str = \"ExtractName\"\n",
    "\n",
    "    async def run(self, query: str):\n",
    "        prompt = self.PROMPT_TEMPLATE.format(query=query)\n",
    "        \n",
    "        rsp = await self._aask(prompt)\n",
    "\n",
    "        extracted_name = Extract.extract_name(rsp)\n",
    "    \n",
    "        return extracted_name\n",
    "\n",
    "    @staticmethod\n",
    "    def extract_name(rsp):\n",
    "        pattern = r\"the name is: (.*)\"\n",
    "        match = re.search(pattern, rsp)\n",
    "        name = match.group(1) if match else rsp\n",
    "        return name.strip()\n",
    "    \n",
    "class Compare(Action):\n",
    "    PROMPT_TEMPLATE: str = \"\"\"\n",
    "    Consider the following list of names:\\n\n",
    "    ```\n",
    "    {names}\n",
    "    ```\\n\n",
    "    Select the entry which is most simmilar to ```{query}```.\n",
    "    Return the selected entry following this output format ```the entry is: XXX``` with NO other texts.\n",
    "    \"\"\"\n",
    "\n",
    "    name: str = \"CompareNames\"\n",
    "\n",
    "    async def run(self, query: str, names: str):\n",
    "        prompt = self.PROMPT_TEMPLATE.format(query=query, names=names)\n",
    "        \n",
    "        rsp = await self._aask(prompt)\n",
    "\n",
    "        extracted_name = Compare.compare_names(rsp)\n",
    "    \n",
    "        return extracted_name\n",
    "\n",
    "    @staticmethod\n",
    "    def compare_names(rsp):\n",
    "        pattern = r\"the entry is: (.*)\"\n",
    "        match = re.search(pattern, rsp)\n",
    "        name = match.group(1) if match else rsp\n",
    "        return name.strip()"
   ]
  },
  {
   "cell_type": "code",
   "execution_count": 76,
   "metadata": {},
   "outputs": [
    {
     "name": "stderr",
     "output_type": "stream",
     "text": [
      "2024-11-07 16:18:23.690 | INFO     | __main__:<module>:30 - What is the overall score forChipotleee?\n"
     ]
    },
    {
     "name": "stdout",
     "output_type": "stream",
     "text": [
      "the name is: Chipotle"
     ]
    },
    {
     "name": "stderr",
     "output_type": "stream",
     "text": [
      "2024-11-07 16:18:26.440 | INFO     | metagpt.utils.cost_manager:update_cost:108 - prompt_tokens: 69, completion_tokens: 8\n",
      "2024-11-07 16:18:26.441 | INFO     | __main__:<module>:36 - What is the overall score forChipotleee?\n"
     ]
    },
    {
     "name": "stdout",
     "output_type": "stream",
     "text": [
      "ee\n",
      "Chipotleee\n",
      "the entry is: Chipotle"
     ]
    },
    {
     "name": "stderr",
     "output_type": "stream",
     "text": [
      "2024-11-07 16:18:33.126 | INFO     | metagpt.utils.cost_manager:update_cost:108 - prompt_tokens: 176, completion_tokens: 7\n"
     ]
    },
    {
     "name": "stdout",
     "output_type": "stream",
     "text": [
      "\n",
      "Chipotle\n"
     ]
    }
   ],
   "source": [
    "import nest_asyncio\n",
    "nest_asyncio.apply()\n",
    "\n",
    "names = \"\"\"\n",
    "\"McDonald's\",\n",
    "\"Subway\",\n",
    "\"Taco Bell\",\n",
    "\"Chick-fil-A\",\n",
    "\"Applebee's\",\n",
    "\"Olive Garden\",\n",
    "\"Cheesecake Factory\",\n",
    "\"Buffalo Wild Wings\",\n",
    "\"Starbucks\",\n",
    "\"Krispy Kreme\",\n",
    "\"Panera Bread\",\n",
    "\"Tim Horton's\",\n",
    "\"Chipotle\",\n",
    "\"In-n-Out\",\n",
    "\"Five Guys\",\n",
    "\"Panda Express\",\n",
    "\"Pret A Manger\",\n",
    "\"Cinnabon\",\n",
    "\"IHOP\",\n",
    "\"Burger King\"\n",
    "\"\"\"\n",
    "\n",
    "query=\"What is the overall score forChipotleee?\"\n",
    "\n",
    "role = Extract()\n",
    "logger.info(query)\n",
    "extracted_name = await role.run(query)\n",
    "\n",
    "print(extracted_name)\n",
    "\n",
    "role = Compare()\n",
    "logger.info(query)\n",
    "extracted_name = await role.run(extracted_name, names)\n",
    "\n",
    "print(extracted_name)\n"
   ]
  },
  {
   "cell_type": "code",
   "execution_count": 77,
   "metadata": {},
   "outputs": [
    {
     "data": {
      "text/plain": [
       "['Chipotle offers good, fresh Mexican-inspired fare with customizable options. The customer service is average, with long lines but generally efficient staff.',\n",
       " 'The burritos were enjoyable with fresh ingredients. The service was average, with some staff seeming disinterested in customer interactions.',\n",
       " 'The food at Chipotle is consistently good, with fresh ingredients and customizable options. The customer service was average, with long lines during peak hours.',\n",
       " \"Chipotle's food is enjoyable, with fresh ingredients and customizable options. The service is average, with occasional long lines during peak hours.\",\n",
       " 'The food was good, but the service was average. The burrito bowl was satisfying and flavorful, though the line moved slowly due to understaffing.',\n",
       " \"Chipotle's food is good, with fresh ingredients and customizable options. The service is average, with occasional long lines during peak hours.\",\n",
       " \"Chipotle's build-your-own concept results in satisfying meals with fresh ingredients. The customer service is average, with assembly-line efficiency but little personal interaction.\",\n",
       " \"Chipotle's food is good, with fresh ingredients and customizable options. The customer service is average, sometimes with long lines during peak hours.\",\n",
       " 'Chipotle serves up good, fresh Mexican-inspired fare with customizable options. The service is average, with sometimes long lines during busy periods.',\n",
       " \"Chipotle's food was enjoyable, with fresh ingredients and customizable options. The service was average, with long lines during peak hours.\",\n",
       " \"Chipotle's burritos and bowls are satisfying, with fresh ingredients and customizable options. The service is average, with occasional long lines during peak hours.\",\n",
       " \"Chipotle's food is enjoyable, with fresh ingredients and customizable options. The service was average, with long lines during peak hours.\",\n",
       " \"Chipotle's food is enjoyable, with fresh ingredients and customizable options. The service was average, with a somewhat slow-moving line.\",\n",
       " \"Chipotle's food was satisfying, with fresh ingredients and customizable options. The customer service was average, sometimes feeling rushed during busy periods.\",\n",
       " \"Chipotle's food was enjoyable, with fresh ingredients and customizable options. The customer service was average, with a somewhat slow-moving line but polite staff.\",\n",
       " 'Chipotle serves up enjoyable burritos and bowls with fresh ingredients. The customer service is average, with occasional long lines during peak hours.',\n",
       " 'The burritos and bowls were enjoyable, with fresh ingredients and customizable options. The service was average, sometimes slow during peak hours.',\n",
       " 'The burritos were enjoyable with fresh ingredients and good flavors. The service was average, with some staff seeming disinterested.',\n",
       " \"Chipotle's food is enjoyable, with fresh ingredients and customizable options. The service is average, with long lines during peak hours.\",\n",
       " \"Chipotle's food was enjoyable, with fresh ingredients and customizable options. The service was average, sometimes rushed during busy periods.\",\n",
       " \"Chipotle's food is enjoyable, with fresh ingredients and customizable options. The customer service is average, with assembly-line style preparation sometimes feeling impersonal.\",\n",
       " \"Chipotle's food was enjoyable, with customizable burritos and fresh ingredients. The customer service was average, with long lines during peak hours but efficient assembly-line style service.\",\n",
       " 'The burritos and bowls at Chipotle were enjoyable, with fresh ingredients and customizable options. The service was average, sometimes slow during busy periods.',\n",
       " 'Chipotle serves up satisfying burritos and bowls with fresh ingredients. The customer service was average, but the good food made the visit worthwhile.',\n",
       " \"Chipotle's food is good, with fresh ingredients and customizable options. The customer service is average, sometimes feeling rushed during busy periods.\",\n",
       " \"Chipotle's food is enjoyable, with fresh ingredients and customizable options. The customer service is average, sometimes inconsistent depending on the location.\",\n",
       " \"Chipotle's burritos and bowls are good, with fresh ingredients and customizable options. The service is average, sometimes slow during busy periods.\",\n",
       " \"Chipotle's food was enjoyable, with fresh ingredients and customizable options. The customer service was average, with occasional long lines during peak hours.\",\n",
       " \"Chipotle's burritos and bowls are satisfying with fresh ingredients. The service was average, with some staff seeming disinterested.\",\n",
       " 'Chipotle serves enjoyable, customizable burritos and bowls with fresh ingredients. The service is average, with occasional long lines during peak hours.',\n",
       " \"Chipotle's food was good, with fresh ingredients and customizable options. The customer service was average, with long lines during peak hours but efficient assembly-line style service.\",\n",
       " 'Chipotle offers good, fresh ingredients for their customizable burritos and bowls. The service is average, with occasional slow lines during peak hours.',\n",
       " 'Chipotle serves good, customizable burritos and bowls with fresh ingredients. The customer service was average, with some staff members seeming disinterested.',\n",
       " \"Chipotle's food is good, with fresh ingredients and customizable options. The service is average, sometimes slow during peak hours.\",\n",
       " \"Chipotle's food is enjoyable, with fresh ingredients and customizable options. The service is average, sometimes rushed during peak hours.\",\n",
       " 'Chipotle serves good, fresh Mexican-inspired food with customizable options. The customer service was average, with long lines but efficient assembly-line style service.',\n",
       " 'Chipotle served up satisfying burritos and bowls with fresh ingredients. The customer service was average, but the enjoyable food made up for it.',\n",
       " 'Chipotle serves enjoyable burritos and bowls with fresh ingredients. The customer service is average, with an assembly line style that can feel impersonal at times.',\n",
       " \"Chipotle's food was enjoyable, with fresh ingredients and customizable options. The customer service was average, with some staff seeming disinterested.\",\n",
       " \"Chipotle's food was good, with fresh ingredients and customizable options. The customer service was average, with long lines during peak hours but efficient assembly-line style preparation.\"]"
      ]
     },
     "execution_count": 77,
     "metadata": {},
     "output_type": "execute_result"
    }
   ],
   "source": [
    "reviews = fetch_restaurant_data(extracted_name).get(extracted_name)\n",
    "\n",
    "reviews"
   ]
  }
 ],
 "metadata": {
  "kernelspec": {
   "display_name": "TasteRate",
   "language": "python",
   "name": "python3"
  },
  "language_info": {
   "codemirror_mode": {
    "name": "ipython",
    "version": 3
   },
   "file_extension": ".py",
   "mimetype": "text/x-python",
   "name": "python",
   "nbconvert_exporter": "python",
   "pygments_lexer": "ipython3",
   "version": "3.10.15"
  }
 },
 "nbformat": 4,
 "nbformat_minor": 2
}
